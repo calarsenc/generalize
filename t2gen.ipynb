{
  "nbformat": 4,
  "nbformat_minor": 0,
  "metadata": {
    "colab": {
      "provenance": [],
      "authorship_tag": "ABX9TyPHapGEQUpxKFjcZNhNFMJ4",
      "include_colab_link": true
    },
    "kernelspec": {
      "name": "python3",
      "display_name": "Python 3"
    },
    "language_info": {
      "name": "python"
    }
  },
  "cells": [
    {
      "cell_type": "markdown",
      "metadata": {
        "id": "view-in-github",
        "colab_type": "text"
      },
      "source": [
        "<a href=\"https://colab.research.google.com/github/calarsenc/generalize/blob/main/t2gen.ipynb\" target=\"_parent\"><img src=\"https://colab.research.google.com/assets/colab-badge.svg\" alt=\"Open In Colab\"/></a>"
      ]
    },
    {
      "cell_type": "code",
      "execution_count": null,
      "metadata": {
        "id": "bi4zUKkDn-14"
      },
      "outputs": [],
      "source": []
    },
    {
      "cell_type": "code",
      "execution_count": null,
      "metadata": {
        "execution": {},
        "id": "24296ef5-d8f9-438e-9574-08666be4cd5c"
      },
      "outputs": [],
      "source": [
        "# @title Install and import feedback gadget\n",
        "\n",
        "!pip install numpy scipy matplotlib torch tqdm vibecheck --quiet\n"
      ]
    },
    {
      "cell_type": "code",
      "source": [
        "\n",
        "# Standard Libraries for file and operating system operations, security, and web requests\n",
        "import os\n",
        "import hashlib\n",
        "import requests\n",
        "import random\n",
        "import gc\n",
        "\n",
        "# Core Python data science and visualization libraries\n",
        "import numpy as np\n",
        "import scipy\n",
        "from matplotlib import pyplot as plt\n",
        "import logging\n",
        "from IPython.display import IFrame, display, Image\n",
        "\n",
        "# Deep Learning libraries\n",
        "import torch\n",
        "import torch.nn as nn\n",
        "import torch.optim as optim\n",
        "from torch.utils.data import Dataset, DataLoader, TensorDataset, random_split\n",
        "from torch.cuda.amp import autocast, GradScaler\n",
        "from torch.autograd import profiler\n",
        "\n",
        "# Additional utilities\n",
        "from tqdm.autonotebook import tqdm"
      ],
      "metadata": {
        "id": "Ls6AKd2JoiMV"
      },
      "execution_count": null,
      "outputs": []
    },
    {
      "cell_type": "code",
      "source": [],
      "metadata": {
        "id": "F7NTGcr0ooFe"
      },
      "execution_count": null,
      "outputs": []
    }
  ]
}